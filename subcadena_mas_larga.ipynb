{
  "nbformat": 4,
  "nbformat_minor": 0,
  "metadata": {
    "colab": {
      "name": "subcadena_mas_larga.ipynb",
      "provenance": [],
      "authorship_tag": "ABX9TyMNDLchtH4QzFvtH5vxiRej",
      "include_colab_link": true
    },
    "kernelspec": {
      "name": "python3",
      "display_name": "Python 3"
    },
    "language_info": {
      "name": "python"
    }
  },
  "cells": [
    {
      "cell_type": "markdown",
      "metadata": {
        "id": "view-in-github",
        "colab_type": "text"
      },
      "source": [
        "<a href=\"https://colab.research.google.com/github/jzunigaa/ejercicios_python/blob/main/subcadena_mas_larga.ipynb\" target=\"_parent\"><img src=\"https://colab.research.google.com/assets/colab-badge.svg\" alt=\"Open In Colab\"/></a>"
      ]
    },
    {
      "cell_type": "markdown",
      "source": [
        "EJERCICIO 1: \"SUBCADENA MÁS LARGA\"\n",
        "\n",
        "Se pide elaborar una función que reciba como parámetro un cadena de caracteres y devuela la primera subcadena más larga de elementos diferentes contenida en dicha cadena.\n",
        "\n",
        "Ejemplo:\n",
        "\n",
        "* Input -> \"holaamigoscomoestan\"\n",
        "* output -> \"amigosc\""
      ],
      "metadata": {
        "id": "i_brCtekGCgJ"
      }
    },
    {
      "cell_type": "markdown",
      "source": [
        "Una propuesta de solución:"
      ],
      "metadata": {
        "id": "QbFJ0C3JNiIT"
      }
    },
    {
      "cell_type": "code",
      "execution_count": null,
      "metadata": {
        "id": "PlRvt8RsF5GT"
      },
      "outputs": [],
      "source": [
        "def substrings(string):\n",
        "  sub = '' # variable que almacena la subcadena más larga con caracteres diferentes\n",
        "  ss = '' # varieble que almacena temporalmente las subcadenas generadas\n",
        "  largo = 0 # variable que almacena el largo de la subcadena generada\n",
        "  pos = 0 # variable que almacena la posición del caracter que se repite dentro de la subcadena generada\n",
        "  st = string # variable que almacena la cadena restante por analizar\n",
        "\n",
        "# bucle para recorrer los caracteres de la cadena que resta por analizar\n",
        "  while len(st) > 0:\n",
        "    ss = ss[pos+1:] # subcadena generada. Inicia delante del caracter que se repite en la posición \"pos\"\n",
        "    for i in st: # bucle para recorrer la cadena a analizar\n",
        "      if i not in (ss): # verificar que el caracter no se encuentre en la subcadena generada\n",
        "        ss = ss + i # si el caracter no se encuentra en la subcadena, se agrega a esta\n",
        "      else:\n",
        "        pos = ss.find(i) # marca la posición del caracter que se repite dentro de la subcadena\n",
        "        break # permite salir del bucle ya que no tiene sentido contuar porque se repitió un caracter\n",
        "\n",
        "    largo = len(ss) # se almacena el largo de la subcadena generada para determinar si es las más larga\n",
        "\n",
        "    if largo > len(sub): # validación de la primera subcadena generada más larga\n",
        "      sub = ss\n",
        "\n",
        "    st = st[largo:] # se define la cadena que resta por analizar\n",
        "\n",
        "  return sub"
      ]
    }
  ]
}